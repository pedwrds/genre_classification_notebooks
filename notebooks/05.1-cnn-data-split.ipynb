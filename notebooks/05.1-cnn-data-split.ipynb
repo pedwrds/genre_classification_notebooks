{
 "cells": [
  {
   "cell_type": "code",
   "execution_count": 1,
   "metadata": {},
   "outputs": [],
   "source": [
    "from genreclassification.utils import get_project_root\n",
    "\n",
    "import os\n",
    "import glob\n",
    "import shutil\n",
    "from sklearn.model_selection import train_test_split"
   ]
  },
  {
   "attachments": {},
   "cell_type": "markdown",
   "metadata": {},
   "source": [
    "# split mel-spectrogram images to train/val/test folders"
   ]
  },
  {
   "cell_type": "code",
   "execution_count": 2,
   "metadata": {},
   "outputs": [],
   "source": [
    "genres = [\"blues\", \"classical\", \"country\", \"disco\",\t\"hiphop\", \"jazz\", \"metal\", \"pop\", \"reggae\", \"rock\"]\n",
    "splits = [\"train\", \"val\", \"test\"]"
   ]
  },
  {
   "cell_type": "code",
   "execution_count": 3,
   "metadata": {},
   "outputs": [],
   "source": [
    "# create some directories to split data out into:\n",
    "os.mkdir(get_project_root()/\"data/images_split\")\n",
    "for split in splits:\n",
    "    os.mkdir(get_project_root()/f\"data/images_split/{split}\")\n",
    "    for genre in genres:\n",
    "        os.mkdir(get_project_root()/f\"data/images_split/{split}/{genre}\")"
   ]
  },
  {
   "cell_type": "code",
   "execution_count": 4,
   "metadata": {},
   "outputs": [],
   "source": [
    "src = str(get_project_root()/\"data/images_original\")\n",
    "dst = str(get_project_root()/\"data/images_split\")"
   ]
  },
  {
   "cell_type": "code",
   "execution_count": 5,
   "metadata": {},
   "outputs": [],
   "source": [
    "for genre in genres:\n",
    "    paths = get_project_root()/f\"data/images_original/{genre}/*\"\n",
    "    filepaths = glob.glob(str(paths))\n",
    "    filenames = [os.path.basename(filepath) for filepath in filepaths]\n",
    "\n",
    "    train, test = train_test_split(filenames, test_size=0.2, random_state=42)\n",
    "    train, val = train_test_split(train, test_size=0.2, random_state=42)\n",
    "\n",
    "    for f in train:\n",
    "        shutil.copyfile(src+f\"/{genre}/{f}\", dst+f\"/train/{genre}/{f}\")\n",
    "\n",
    "    for f in val:\n",
    "        shutil.copyfile(src+f\"/{genre}/{f}\", dst+f\"/val/{genre}/{f}\")\n",
    "\n",
    "    for f in test:\n",
    "        shutil.copyfile(src+f\"/{genre}/{f}\", dst+f\"/test/{genre}/{f}\")"
   ]
  },
  {
   "cell_type": "code",
   "execution_count": null,
   "metadata": {},
   "outputs": [],
   "source": []
  }
 ],
 "metadata": {
  "kernelspec": {
   "display_name": "genreclassification-qGJVucn0-py3.9",
   "language": "python",
   "name": "python3"
  },
  "language_info": {
   "codemirror_mode": {
    "name": "ipython",
    "version": 3
   },
   "file_extension": ".py",
   "mimetype": "text/x-python",
   "name": "python",
   "nbconvert_exporter": "python",
   "pygments_lexer": "ipython3",
   "version": "3.9.15"
  },
  "orig_nbformat": 4,
  "vscode": {
   "interpreter": {
    "hash": "071c4954f4b056e381337a2b30bebca67942706fcde46b495279624c5d47332a"
   }
  }
 },
 "nbformat": 4,
 "nbformat_minor": 2
}
