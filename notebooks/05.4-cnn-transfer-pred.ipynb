{
 "cells": [
  {
   "cell_type": "code",
   "execution_count": 81,
   "metadata": {},
   "outputs": [],
   "source": [
    "import numpy as np\n",
    "from genreclassification.utils import get_project_root\n",
    "import pandas as pd\n",
    "import matplotlib.pyplot as plt\n",
    "import tensorflow as tf\n",
    "from tensorflow.keras.preprocessing.image import ImageDataGenerator\n",
    "from tensorflow.keras.models import Sequential, load_model\n",
    "from tensorflow.keras.layers import Dense\n",
    "from tensorflow.keras.optimizers import Adam\n",
    "from keras.callbacks import History, EarlyStopping\n",
    "from sklearn.metrics import confusion_matrix, ConfusionMatrixDisplay\n",
    "from sklearn.metrics import accuracy_score, recall_score, precision_score, f1_score\n",
    "\n",
    "import dataframe_image as dfi\n",
    "pd.set_option(\"display.max_columns\", None)"
   ]
  },
  {
   "attachments": {},
   "cell_type": "markdown",
   "metadata": {},
   "source": [
    "# retesting the CNN\n",
    "---\n",
    "* this notebook was to rectify an issue with the test set\n",
    "* workings have now been integrated to both vgg16 model notebooks\n",
    "---"
   ]
  },
  {
   "cell_type": "code",
   "execution_count": 82,
   "metadata": {},
   "outputs": [],
   "source": [
    "genres = [\"blues\", \"classical\", \"country\", \"disco\",\t\"hiphop\", \"jazz\", \"metal\", \"pop\", \"reggae\", \"rock\"]"
   ]
  },
  {
   "cell_type": "code",
   "execution_count": 83,
   "metadata": {},
   "outputs": [],
   "source": [
    "test_path = get_project_root()/\"data/images_split/test\""
   ]
  },
  {
   "cell_type": "code",
   "execution_count": 84,
   "metadata": {},
   "outputs": [
    {
     "name": "stdout",
     "output_type": "stream",
     "text": [
      "Found 200 images belonging to 10 classes.\n"
     ]
    }
   ],
   "source": [
    "test_batches = ImageDataGenerator(preprocessing_function=tf.keras.applications.vgg16.preprocess_input) \\\n",
    "    .flow_from_directory(directory=test_path, target_size=(244,244), classes=genres, batch_size=16, shuffle=False)"
   ]
  },
  {
   "cell_type": "markdown",
   "metadata": {},
   "source": [
    "### load model:"
   ]
  },
  {
   "cell_type": "code",
   "execution_count": 85,
   "metadata": {},
   "outputs": [],
   "source": [
    "vgg_model = load_model(\n",
    "    get_project_root() / \"models/vgg/vgg\"\n",
    ")"
   ]
  },
  {
   "cell_type": "code",
   "execution_count": 86,
   "metadata": {},
   "outputs": [
    {
     "name": "stdout",
     "output_type": "stream",
     "text": [
      "Model: \"sequential\"\n",
      "_________________________________________________________________\n",
      " Layer (type)                Output Shape              Param #   \n",
      "=================================================================\n",
      " block1_conv1 (Conv2D)       (None, 224, 224, 64)      1792      \n",
      "                                                                 \n",
      " block1_conv2 (Conv2D)       (None, 224, 224, 64)      36928     \n",
      "                                                                 \n",
      " block1_pool (MaxPooling2D)  (None, 112, 112, 64)      0         \n",
      "                                                                 \n",
      " block2_conv1 (Conv2D)       (None, 112, 112, 128)     73856     \n",
      "                                                                 \n",
      " block2_conv2 (Conv2D)       (None, 112, 112, 128)     147584    \n",
      "                                                                 \n",
      " block2_pool (MaxPooling2D)  (None, 56, 56, 128)       0         \n",
      "                                                                 \n",
      " block3_conv1 (Conv2D)       (None, 56, 56, 256)       295168    \n",
      "                                                                 \n",
      " block3_conv2 (Conv2D)       (None, 56, 56, 256)       590080    \n",
      "                                                                 \n",
      " block3_conv3 (Conv2D)       (None, 56, 56, 256)       590080    \n",
      "                                                                 \n",
      " block3_pool (MaxPooling2D)  (None, 28, 28, 256)       0         \n",
      "                                                                 \n",
      " block4_conv1 (Conv2D)       (None, 28, 28, 512)       1180160   \n",
      "                                                                 \n",
      " block4_conv2 (Conv2D)       (None, 28, 28, 512)       2359808   \n",
      "                                                                 \n",
      " block4_conv3 (Conv2D)       (None, 28, 28, 512)       2359808   \n",
      "                                                                 \n",
      " block4_pool (MaxPooling2D)  (None, 14, 14, 512)       0         \n",
      "                                                                 \n",
      " block5_conv1 (Conv2D)       (None, 14, 14, 512)       2359808   \n",
      "                                                                 \n",
      " block5_conv2 (Conv2D)       (None, 14, 14, 512)       2359808   \n",
      "                                                                 \n",
      " block5_conv3 (Conv2D)       (None, 14, 14, 512)       2359808   \n",
      "                                                                 \n",
      " block5_pool (MaxPooling2D)  (None, 7, 7, 512)         0         \n",
      "                                                                 \n",
      " flatten (Flatten)           (None, 25088)             0         \n",
      "                                                                 \n",
      " fc1 (Dense)                 (None, 4096)              102764544 \n",
      "                                                                 \n",
      " fc2 (Dense)                 (None, 4096)              16781312  \n",
      "                                                                 \n",
      " dense (Dense)               (None, 10)                40970     \n",
      "                                                                 \n",
      "=================================================================\n",
      "Total params: 134,301,514\n",
      "Trainable params: 40,970\n",
      "Non-trainable params: 134,260,544\n",
      "_________________________________________________________________\n"
     ]
    }
   ],
   "source": [
    "vgg_model.summary()"
   ]
  },
  {
   "attachments": {},
   "cell_type": "markdown",
   "metadata": {},
   "source": [
    "## performance on test set"
   ]
  },
  {
   "cell_type": "code",
   "execution_count": 87,
   "metadata": {},
   "outputs": [],
   "source": [
    "pred = vgg_model.predict(x=test_batches, steps=len(test_batches), verbose=0)"
   ]
  },
  {
   "cell_type": "code",
   "execution_count": 88,
   "metadata": {},
   "outputs": [
    {
     "data": {
      "text/plain": [
       "array([8, 0, 0, 0, 0, 0, 9, 5, 6, 0, 0, 8, 6, 2, 8, 0, 0, 0, 0, 5, 1, 1,\n",
       "       1, 1, 1, 1, 1, 1, 1, 1, 1, 5, 1, 1, 1, 1, 1, 1, 1, 1, 2, 2, 2, 9,\n",
       "       2, 2, 2, 2, 2, 5, 2, 2, 2, 2, 9, 2, 9, 9, 2, 2, 3, 3, 9, 3, 3, 3,\n",
       "       3, 3, 4, 3, 8, 3, 3, 9, 4, 0, 3, 3, 0, 3, 7, 4, 4, 6, 4, 4, 4, 4,\n",
       "       5, 4, 4, 4, 4, 4, 4, 8, 4, 4, 4, 5, 0, 5, 5, 5, 5, 1, 0, 5, 5, 5,\n",
       "       1, 5, 2, 1, 5, 2, 1, 5, 5, 5, 6, 6, 6, 6, 6, 6, 9, 6, 6, 6, 6, 6,\n",
       "       6, 6, 6, 6, 6, 6, 6, 6, 7, 2, 7, 7, 7, 7, 7, 7, 3, 7, 7, 7, 7, 7,\n",
       "       4, 7, 7, 7, 9, 7, 8, 8, 8, 8, 9, 8, 8, 8, 7, 8, 4, 6, 7, 7, 7, 8,\n",
       "       7, 4, 3, 3, 9, 6, 6, 2, 6, 6, 2, 7, 2, 0, 0, 6, 1, 9, 3, 2, 6, 6,\n",
       "       9, 9])"
      ]
     },
     "execution_count": 88,
     "metadata": {},
     "output_type": "execute_result"
    }
   ],
   "source": [
    "np.argmax(pred, axis=1)"
   ]
  },
  {
   "cell_type": "code",
   "execution_count": 89,
   "metadata": {},
   "outputs": [
    {
     "data": {
      "text/plain": [
       "array([0, 0, 0, 0, 0, 0, 0, 0, 0, 0, 0, 0, 0, 0, 0, 0, 0, 0, 0, 0, 1, 1,\n",
       "       1, 1, 1, 1, 1, 1, 1, 1, 1, 1, 1, 1, 1, 1, 1, 1, 1, 1, 2, 2, 2, 2,\n",
       "       2, 2, 2, 2, 2, 2, 2, 2, 2, 2, 2, 2, 2, 2, 2, 2, 3, 3, 3, 3, 3, 3,\n",
       "       3, 3, 3, 3, 3, 3, 3, 3, 3, 3, 3, 3, 3, 3, 4, 4, 4, 4, 4, 4, 4, 4,\n",
       "       4, 4, 4, 4, 4, 4, 4, 4, 4, 4, 4, 4, 5, 5, 5, 5, 5, 5, 5, 5, 5, 5,\n",
       "       5, 5, 5, 5, 5, 5, 5, 5, 5, 5, 6, 6, 6, 6, 6, 6, 6, 6, 6, 6, 6, 6,\n",
       "       6, 6, 6, 6, 6, 6, 6, 6, 7, 7, 7, 7, 7, 7, 7, 7, 7, 7, 7, 7, 7, 7,\n",
       "       7, 7, 7, 7, 7, 7, 8, 8, 8, 8, 8, 8, 8, 8, 8, 8, 8, 8, 8, 8, 8, 8,\n",
       "       8, 8, 8, 8, 9, 9, 9, 9, 9, 9, 9, 9, 9, 9, 9, 9, 9, 9, 9, 9, 9, 9,\n",
       "       9, 9], dtype=int32)"
      ]
     },
     "execution_count": 89,
     "metadata": {},
     "output_type": "execute_result"
    }
   ],
   "source": [
    "test_batches.classes"
   ]
  },
  {
   "cell_type": "code",
   "execution_count": 90,
   "metadata": {},
   "outputs": [
    {
     "name": "stdout",
     "output_type": "stream",
     "text": [
      "tf accuracy: 0.6650000214576721\n"
     ]
    }
   ],
   "source": [
    "score = (loss, Accuracy) = vgg_model.evaluate(x=test_batches, steps= len(test_batches), verbose=0)\n",
    "print(f\"tf accuracy: {score[1]}\")"
   ]
  },
  {
   "cell_type": "code",
   "execution_count": 91,
   "metadata": {},
   "outputs": [],
   "source": [
    "pred_class = np.argmax(pred, axis=1)\n",
    "# pred_class = pd.Series(pred_class)"
   ]
  },
  {
   "cell_type": "code",
   "execution_count": 92,
   "metadata": {},
   "outputs": [
    {
     "data": {
      "text/plain": [
       "array([[11,  0,  1,  0,  0,  2,  2,  0,  3,  1],\n",
       "       [ 0, 19,  0,  0,  0,  1,  0,  0,  0,  0],\n",
       "       [ 0,  0, 15,  0,  0,  1,  0,  0,  0,  4],\n",
       "       [ 2,  0,  0, 13,  2,  0,  0,  0,  1,  2],\n",
       "       [ 0,  0,  0,  0, 15,  2,  1,  1,  1,  0],\n",
       "       [ 2,  4,  2,  0,  0, 12,  0,  0,  0,  0],\n",
       "       [ 0,  0,  0,  0,  0,  0, 19,  0,  0,  1],\n",
       "       [ 0,  0,  1,  1,  1,  0,  0, 16,  0,  1],\n",
       "       [ 0,  0,  0,  2,  2,  0,  1,  5,  9,  1],\n",
       "       [ 2,  1,  4,  1,  0,  0,  7,  1,  0,  4]])"
      ]
     },
     "execution_count": 92,
     "metadata": {},
     "output_type": "execute_result"
    }
   ],
   "source": [
    "cm = confusion_matrix(\n",
    "    test_batches.classes,\n",
    "    pred_class\n",
    ")\n",
    "cm"
   ]
  },
  {
   "cell_type": "code",
   "execution_count": 93,
   "metadata": {},
   "outputs": [
    {
     "data": {
      "image/png": "[encoded data removed]",
      "text/plain": [
       "<Figure size 700x700 with 1 Axes>"
      ]
     },
     "metadata": {},
     "output_type": "display_data"
    }
   ],
   "source": [
    "fig = plt.figure(figsize=(7,7))\n",
    "ax = fig.add_subplot(111)\n",
    "ConfusionMatrixDisplay(\n",
    "    cm,\n",
    "    display_labels=genres\n",
    ").plot(\n",
    "    xticks_rotation=90,\n",
    "    cmap=\"Blues\",\n",
    "    colorbar=False,\n",
    "    ax=ax\n",
    ")\n",
    "fig.tight_layout()"
   ]
  },
  {
   "cell_type": "code",
   "execution_count": 31,
   "metadata": {},
   "outputs": [],
   "source": [
    "fig.savefig(\n",
    "    get_project_root() / \"models/vgg/vgg_cm2.svg\"\n",
    ")\n",
    "fig.savefig(\n",
    "    get_project_root() / \"models/vgg/vgg_cm2.png\"\n",
    ")"
   ]
  },
  {
   "cell_type": "code",
   "execution_count": 114,
   "metadata": {},
   "outputs": [],
   "source": [
    "def average_metrics(y_test, y_pred):\n",
    "    scorers = {\n",
    "        \"accuracy\": accuracy_score(y_test, y_pred),\n",
    "        \"f1_micro\": f1_score(y_test, y_pred, average=\"micro\"),\n",
    "        \"f1_macro\": f1_score(y_test, y_pred, average=\"macro\"),\n",
    "        \"recall_micro\": recall_score(y_test, y_pred, average=\"micro\"),\n",
    "        \"recall_macro\": recall_score(y_test, y_pred, average=\"macro\"),\n",
    "        \"precision_micro\": precision_score(y_test, y_pred, average=\"micro\"),\n",
    "        \"precision_macro\": precision_score(y_test, y_pred, average=\"macro\")\n",
    "    }\n",
    "    df = pd.DataFrame(index=scorers.keys(), columns=[\"metric score\"])\n",
    "    for scorer in scorers.keys():\n",
    "        df.at[scorer, \"metric score\"] = scorers[scorer]\n",
    "    df=df.transpose()\n",
    "    return df\n",
    "\n",
    "def class_metrics(y_test, y_pred, class_labels):\n",
    "    df = pd.DataFrame(index=list(class_labels))\n",
    "\n",
    "    for scorer in [\n",
    "        (\"recall\", recall_score),\n",
    "        (\"precision\", precision_score),\n",
    "        (\"f1\", f1_score)\n",
    "    ]:\n",
    "        metric_score = scorer[1](\n",
    "            y_test,\n",
    "            y_pred,\n",
    "            average=None,\n",
    "            # labels=list(class_labels)\n",
    "        )\n",
    "        df[scorer[0]] = metric_score\n",
    "\n",
    "    df = df.transpose()\n",
    "\n",
    "    return df"
   ]
  },
  {
   "cell_type": "code",
   "execution_count": 95,
   "metadata": {},
   "outputs": [
    {
     "data": {
      "text/html": [
       "<div>\n",
       "<style scoped>\n",
       "    .dataframe tbody tr th:only-of-type {\n",
       "        vertical-align: middle;\n",
       "    }\n",
       "\n",
       "    .dataframe tbody tr th {\n",
       "        vertical-align: top;\n",
       "    }\n",
       "\n",
       "    .dataframe thead th {\n",
       "        text-align: right;\n",
       "    }\n",
       "</style>\n",
       "<table border=\"1\" class=\"dataframe\">\n",
       "  <thead>\n",
       "    <tr style=\"text-align: right;\">\n",
       "      <th></th>\n",
       "      <th>accuracy</th>\n",
       "      <th>f1_micro</th>\n",
       "      <th>f1_macro</th>\n",
       "      <th>recall_micro</th>\n",
       "      <th>recall_macro</th>\n",
       "      <th>precision_micro</th>\n",
       "      <th>precision_macro</th>\n",
       "    </tr>\n",
       "  </thead>\n",
       "  <tbody>\n",
       "    <tr>\n",
       "      <th>metric score</th>\n",
       "      <td>0.665</td>\n",
       "      <td>0.665</td>\n",
       "      <td>0.650908</td>\n",
       "      <td>0.665</td>\n",
       "      <td>0.665</td>\n",
       "      <td>0.665</td>\n",
       "      <td>0.652983</td>\n",
       "    </tr>\n",
       "  </tbody>\n",
       "</table>\n",
       "</div>"
      ],
      "text/plain": [
       "             accuracy f1_micro  f1_macro recall_micro recall_macro  \\\n",
       "metric score    0.665    0.665  0.650908        0.665        0.665   \n",
       "\n",
       "             precision_micro precision_macro  \n",
       "metric score           0.665        0.652983  "
      ]
     },
     "execution_count": 95,
     "metadata": {},
     "output_type": "execute_result"
    }
   ],
   "source": [
    "average_metrics(test_batches.classes, pred_class)"
   ]
  },
  {
   "cell_type": "code",
   "execution_count": 115,
   "metadata": {},
   "outputs": [],
   "source": [
    "x = pred_class\n",
    "y = test_batches.classes.astype(int)"
   ]
  },
  {
   "cell_type": "code",
   "execution_count": 1,
   "metadata": {},
   "outputs": [
    {
     "ename": "NameError",
     "evalue": "name 'class_metrics' is not defined",
     "output_type": "error",
     "traceback": [
      "\u001b[0;31m---------------------------------------------------------------------------\u001b[0m",
      "\u001b[0;31mNameError\u001b[0m                                 Traceback (most recent call last)",
      "Cell \u001b[0;32mIn [1], line 1\u001b[0m\n\u001b[0;32m----> 1\u001b[0m class_metrics(\n\u001b[1;32m      2\u001b[0m     test_batches\u001b[39m.\u001b[39mclasses,\n\u001b[1;32m      3\u001b[0m     pred_class,\n\u001b[1;32m      4\u001b[0m     genres\n\u001b[1;32m      5\u001b[0m )\n",
      "\u001b[0;31mNameError\u001b[0m: name 'class_metrics' is not defined"
     ]
    }
   ],
   "source": [
    "class_metrics(\n",
    "    test_batches.classes,\n",
    "    pred_class,\n",
    "    genres\n",
    ")"
   ]
  },
  {
   "cell_type": "code",
   "execution_count": null,
   "metadata": {},
   "outputs": [],
   "source": []
  }
 ],
 "metadata": {
  "kernelspec": {
   "display_name": "genreclassification-qGJVucn0-py3.9",
   "language": "python",
   "name": "python3"
  },
  "language_info": {
   "codemirror_mode": {
    "name": "ipython",
    "version": 3
   },
   "file_extension": ".py",
   "mimetype": "text/x-python",
   "name": "python",
   "nbconvert_exporter": "python",
   "pygments_lexer": "ipython3",
   "version": "3.9.15"
  },
  "orig_nbformat": 4,
  "vscode": {
   "interpreter": {
    "hash": "071c4954f4b056e381337a2b30bebca67942706fcde46b495279624c5d47332a"
   }
  }
 },
 "nbformat": 4,
 "nbformat_minor": 2
}
