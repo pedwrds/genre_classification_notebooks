{
 "cells": [
  {
   "cell_type": "code",
   "execution_count": 1,
   "metadata": {},
   "outputs": [
    {
     "name": "stderr",
     "output_type": "stream",
     "text": [
      "2023-01-12 12:08:03.992644: I tensorflow/core/platform/cpu_feature_guard.cc:193] This TensorFlow binary is optimized with oneAPI Deep Neural Network Library (oneDNN) to use the following CPU instructions in performance-critical operations:  AVX2 AVX512F AVX512_VNNI FMA\n",
      "To enable them in other operations, rebuild TensorFlow with the appropriate compiler flags.\n"
     ]
    }
   ],
   "source": [
    "import numpy as np\n",
    "from genreclassification.utils import get_project_root\n",
    "import pandas as pd\n",
    "import matplotlib.pyplot as plt\n",
    "import tensorflow as tf\n",
    "from tensorflow.keras.preprocessing.image import ImageDataGenerator\n",
    "from tensorflow.keras.models import Sequential, load_model\n",
    "from tensorflow.keras.layers import Dense\n",
    "from tensorflow.keras.optimizers import Adam\n",
    "from keras.callbacks import History, EarlyStopping\n",
    "from sklearn.metrics import confusion_matrix, ConfusionMatrixDisplay\n",
    "from sklearn.metrics import accuracy_score, recall_score, precision_score, f1_score\n",
    "\n",
    "import dataframe_image as dfi\n",
    "pd.set_option(\"display.max_columns\", None)"
   ]
  },
  {
   "attachments": {},
   "cell_type": "markdown",
   "metadata": {},
   "source": [
    "# cnn transfer learning (vgg16); train all layers"
   ]
  },
  {
   "attachments": {},
   "cell_type": "markdown",
   "metadata": {},
   "source": [
    "* train CNN from here or jump to [testing](#performance-on-test-set) to load a saved model"
   ]
  },
  {
   "cell_type": "code",
   "execution_count": 2,
   "metadata": {},
   "outputs": [],
   "source": [
    "genres = [\"blues\", \"classical\", \"country\", \"disco\",\t\"hiphop\", \"jazz\", \"metal\", \"pop\", \"reggae\", \"rock\"]"
   ]
  },
  {
   "cell_type": "code",
   "execution_count": 3,
   "metadata": {},
   "outputs": [],
   "source": [
    "train_path = get_project_root()/\"data/images_split/train\"\n",
    "val_path = get_project_root()/\"data/images_split/val\"\n",
    "test_path = get_project_root()/\"data/images_split/test\""
   ]
  },
  {
   "cell_type": "code",
   "execution_count": 4,
   "metadata": {},
   "outputs": [
    {
     "name": "stdout",
     "output_type": "stream",
     "text": [
      "Found 639 images belonging to 10 classes.\n",
      "Found 160 images belonging to 10 classes.\n"
     ]
    }
   ],
   "source": [
    "train_batches = ImageDataGenerator(preprocessing_function=tf.keras.applications.vgg16.preprocess_input) \\\n",
    "    .flow_from_directory(directory=train_path, target_size=(244,244), classes=genres, batch_size=16)\n",
    "\n",
    "val_batches = ImageDataGenerator(preprocessing_function=tf.keras.applications.vgg16.preprocess_input) \\\n",
    "    .flow_from_directory(directory=val_path, target_size=(244,244), classes=genres, batch_size=16)"
   ]
  },
  {
   "cell_type": "code",
   "execution_count": 5,
   "metadata": {},
   "outputs": [
    {
     "name": "stderr",
     "output_type": "stream",
     "text": [
      "2023-01-12 12:08:09.702875: I tensorflow/core/platform/cpu_feature_guard.cc:193] This TensorFlow binary is optimized with oneAPI Deep Neural Network Library (oneDNN) to use the following CPU instructions in performance-critical operations:  AVX2 AVX512F AVX512_VNNI FMA\n",
      "To enable them in other operations, rebuild TensorFlow with the appropriate compiler flags.\n"
     ]
    }
   ],
   "source": [
    "vgg16 = tf.keras.applications.vgg16.VGG16()"
   ]
  },
  {
   "cell_type": "code",
   "execution_count": 6,
   "metadata": {},
   "outputs": [],
   "source": [
    "# vgg16.summary()"
   ]
  },
  {
   "cell_type": "code",
   "execution_count": 7,
   "metadata": {},
   "outputs": [],
   "source": [
    "vgg_model = Sequential()\n",
    "for layer in vgg16.layers[:-1]:\n",
    "    vgg_model.add(layer)"
   ]
  },
  {
   "cell_type": "code",
   "execution_count": 8,
   "metadata": {},
   "outputs": [],
   "source": [
    "for layer in vgg_model.layers:\n",
    "    layer.trainable = True"
   ]
  },
  {
   "cell_type": "code",
   "execution_count": 9,
   "metadata": {},
   "outputs": [],
   "source": [
    "vgg_model.add(Dense(units=10, activation=\"softmax\"))"
   ]
  },
  {
   "cell_type": "code",
   "execution_count": 10,
   "metadata": {},
   "outputs": [],
   "source": [
    "# vgg_model.summary()"
   ]
  },
  {
   "cell_type": "code",
   "execution_count": 11,
   "metadata": {},
   "outputs": [],
   "source": [
    "vgg_model.compile(optimizer='adam', loss='categorical_crossentropy', metrics=['accuracy'])"
   ]
  },
  {
   "cell_type": "code",
   "execution_count": 12,
   "metadata": {},
   "outputs": [
    {
     "name": "stdout",
     "output_type": "stream",
     "text": [
      "Epoch 1/16\n",
      "40/40 - 325s - loss: 27.1766 - accuracy: 0.0939 - val_loss: 2.8480 - val_accuracy: 0.1000 - 325s/epoch - 8s/step\n",
      "Epoch 2/16\n",
      "40/40 - 278s - loss: 2.5815 - accuracy: 0.0736 - val_loss: 2.4299 - val_accuracy: 0.1000 - 278s/epoch - 7s/step\n",
      "Epoch 3/16\n",
      "40/40 - 277s - loss: 2.6984 - accuracy: 0.0814 - val_loss: 2.4837 - val_accuracy: 0.1000 - 277s/epoch - 7s/step\n",
      "Epoch 4/16\n",
      "40/40 - 275s - loss: 2.5992 - accuracy: 0.0689 - val_loss: 2.3940 - val_accuracy: 0.1187 - 275s/epoch - 7s/step\n",
      "Epoch 5/16\n",
      "40/40 - 274s - loss: 2.4776 - accuracy: 0.0923 - val_loss: 2.3626 - val_accuracy: 0.1063 - 274s/epoch - 7s/step\n",
      "Epoch 6/16\n",
      "40/40 - 274s - loss: 2.3719 - accuracy: 0.0986 - val_loss: 2.3034 - val_accuracy: 0.1312 - 274s/epoch - 7s/step\n",
      "Epoch 7/16\n",
      "40/40 - 273s - loss: 3.5264 - accuracy: 0.1252 - val_loss: 3.0674 - val_accuracy: 0.1000 - 273s/epoch - 7s/step\n",
      "Epoch 8/16\n",
      "40/40 - 274s - loss: 3.8664 - accuracy: 0.0923 - val_loss: 2.6053 - val_accuracy: 0.1000 - 274s/epoch - 7s/step\n",
      "Epoch 9/16\n",
      "40/40 - 273s - loss: 2.7125 - accuracy: 0.1064 - val_loss: 2.3084 - val_accuracy: 0.1000 - 273s/epoch - 7s/step\n",
      "Epoch 10/16\n",
      "40/40 - 280s - loss: 2.4007 - accuracy: 0.0892 - val_loss: 2.4179 - val_accuracy: 0.1000 - 280s/epoch - 7s/step\n",
      "Epoch 11/16\n",
      "40/40 - 273s - loss: 2.3832 - accuracy: 0.0876 - val_loss: 2.3884 - val_accuracy: 0.1000 - 273s/epoch - 7s/step\n",
      "Epoch 12/16\n",
      "40/40 - 272s - loss: 2.3308 - accuracy: 0.1111 - val_loss: 2.3455 - val_accuracy: 0.1000 - 272s/epoch - 7s/step\n",
      "Epoch 13/16\n",
      "40/40 - 273s - loss: 2.2880 - accuracy: 0.1252 - val_loss: 2.2373 - val_accuracy: 0.1688 - 273s/epoch - 7s/step\n",
      "Epoch 14/16\n",
      "40/40 - 273s - loss: 2.2059 - accuracy: 0.1643 - val_loss: 2.2244 - val_accuracy: 0.1562 - 273s/epoch - 7s/step\n",
      "Epoch 15/16\n",
      "40/40 - 311s - loss: 2.2508 - accuracy: 0.1753 - val_loss: 2.3634 - val_accuracy: 0.1375 - 311s/epoch - 8s/step\n",
      "Epoch 16/16\n",
      "40/40 - 314s - loss: 2.1239 - accuracy: 0.2222 - val_loss: 2.0410 - val_accuracy: 0.2125 - 314s/epoch - 8s/step\n"
     ]
    },
    {
     "data": {
      "text/plain": [
       "<keras.callbacks.History at 0x15cbcbeb0>"
      ]
     },
     "execution_count": 12,
     "metadata": {},
     "output_type": "execute_result"
    }
   ],
   "source": [
    "epochs = 16\n",
    "history = History()\n",
    "\n",
    "# restore best model by val_loss\n",
    "# patience == num epochs so doesn't actually stop early\n",
    "early_stopping = EarlyStopping(\n",
    "    monitor=\"val_loss\",\n",
    "    min_delta=0,\n",
    "    restore_best_weights=True,\n",
    "    patience=epochs,\n",
    "    baseline=None\n",
    ")\n",
    "\n",
    "vgg_model.fit(\n",
    "    x=train_batches,\n",
    "    steps_per_epoch=len(train_batches),\n",
    "    validation_data=val_batches,\n",
    "    validation_steps=len(val_batches),\n",
    "    epochs=epochs,\n",
    "    verbose=2,\n",
    "    callbacks=[\n",
    "        history,\n",
    "        early_stopping\n",
    "    ]\n",
    ")"
   ]
  },
  {
   "cell_type": "code",
   "execution_count": 31,
   "metadata": {},
   "outputs": [
    {
     "data": {
      "text/plain": [
       "dict_keys(['loss', 'accuracy', 'val_loss', 'val_accuracy'])"
      ]
     },
     "execution_count": 31,
     "metadata": {},
     "output_type": "execute_result"
    }
   ],
   "source": [
    "history.history.keys()"
   ]
  },
  {
   "cell_type": "code",
   "execution_count": 32,
   "metadata": {},
   "outputs": [
    {
     "data": {
      "image/png": "[encoded data removed]",
      "text/plain": [
       "<Figure size 1000x600 with 1 Axes>"
      ]
     },
     "metadata": {},
     "output_type": "display_data"
    }
   ],
   "source": [
    "fig = plt.figure(\n",
    "    figsize=(10,6)\n",
    ")\n",
    "ax = fig.add_subplot(111)\n",
    "\n",
    "ax.plot(history.history[\"accuracy\"], label=\"training\", linewidth=0.7)\n",
    "ax.plot(history.history[\"val_accuracy\"], label=\"validation\", linewidth=0.7)\n",
    "\n",
    "ax.set_xlabel(\"epoch\")\n",
    "ax.set_ylabel(\"accuracy\")\n",
    "ax.legend()\n",
    "\n",
    "fig.tight_layout()"
   ]
  },
  {
   "cell_type": "markdown",
   "metadata": {},
   "source": [
    "### save training fig:"
   ]
  },
  {
   "cell_type": "code",
   "execution_count": 33,
   "metadata": {},
   "outputs": [],
   "source": [
    "fig.savefig(\n",
    "    get_project_root() / \"output/vgg16-train-all-layers/vgg16-train-all-layers_train-val.svg\"\n",
    ")\n",
    "fig.savefig(\n",
    "    get_project_root() / \"output/vgg16-train-all-layers/vgg16-train-all-layers_train-val.png\"\n",
    ")"
   ]
  },
  {
   "cell_type": "markdown",
   "metadata": {},
   "source": [
    "### save model:"
   ]
  },
  {
   "cell_type": "code",
   "execution_count": 16,
   "metadata": {},
   "outputs": [
    {
     "name": "stderr",
     "output_type": "stream",
     "text": [
      "WARNING:absl:Found untraced functions such as _jit_compiled_convolution_op, _jit_compiled_convolution_op, _jit_compiled_convolution_op, _jit_compiled_convolution_op, _jit_compiled_convolution_op while saving (showing 5 of 13). These functions will not be directly callable after loading.\n"
     ]
    },
    {
     "name": "stdout",
     "output_type": "stream",
     "text": [
      "INFO:tensorflow:Assets written to: /Users/djq98242/repos/genre_classification/models/vgg-all-layers/vgg-all-layers/assets\n"
     ]
    },
    {
     "name": "stderr",
     "output_type": "stream",
     "text": [
      "INFO:tensorflow:Assets written to: /Users/djq98242/repos/genre_classification/models/vgg-all-layers/vgg-all-layers/assets\n"
     ]
    }
   ],
   "source": [
    "vgg_model.save(\n",
    "    get_project_root() / \"models/vgg-all-layers/vgg-all-layers\"\n",
    ")"
   ]
  },
  {
   "attachments": {},
   "cell_type": "markdown",
   "metadata": {},
   "source": [
    "## performance on test set"
   ]
  },
  {
   "cell_type": "code",
   "execution_count": 17,
   "metadata": {},
   "outputs": [
    {
     "name": "stdout",
     "output_type": "stream",
     "text": [
      "Found 200 images belonging to 10 classes.\n"
     ]
    }
   ],
   "source": [
    "genres = [\"blues\", \"classical\", \"country\", \"disco\",\t\"hiphop\", \"jazz\", \"metal\", \"pop\", \"reggae\", \"rock\"]\n",
    "\n",
    "test_path = get_project_root()/\"data/images_split/test\"\n",
    "\n",
    "# load test set with shuffle=False\n",
    "test_batches = ImageDataGenerator(preprocessing_function=tf.keras.applications.vgg16.preprocess_input) \\\n",
    "    .flow_from_directory(directory=test_path, target_size=(244,244), classes=genres, batch_size=16, shuffle=False)"
   ]
  },
  {
   "cell_type": "markdown",
   "metadata": {},
   "source": [
    "### load model:"
   ]
  },
  {
   "cell_type": "code",
   "execution_count": 18,
   "metadata": {},
   "outputs": [],
   "source": [
    "# vgg_model = load_model(\n",
    "#     get_project_root() / \"models/vgg-all-layers/vgg-all-layers\"\n",
    "# )"
   ]
  },
  {
   "cell_type": "code",
   "execution_count": 19,
   "metadata": {},
   "outputs": [
    {
     "name": "stdout",
     "output_type": "stream",
     "text": [
      "Model: \"sequential\"\n",
      "_________________________________________________________________\n",
      " Layer (type)                Output Shape              Param #   \n",
      "=================================================================\n",
      " block1_conv1 (Conv2D)       (None, 224, 224, 64)      1792      \n",
      "                                                                 \n",
      " block1_conv2 (Conv2D)       (None, 224, 224, 64)      36928     \n",
      "                                                                 \n",
      " block1_pool (MaxPooling2D)  (None, 112, 112, 64)      0         \n",
      "                                                                 \n",
      " block2_conv1 (Conv2D)       (None, 112, 112, 128)     73856     \n",
      "                                                                 \n",
      " block2_conv2 (Conv2D)       (None, 112, 112, 128)     147584    \n",
      "                                                                 \n",
      " block2_pool (MaxPooling2D)  (None, 56, 56, 128)       0         \n",
      "                                                                 \n",
      " block3_conv1 (Conv2D)       (None, 56, 56, 256)       295168    \n",
      "                                                                 \n",
      " block3_conv2 (Conv2D)       (None, 56, 56, 256)       590080    \n",
      "                                                                 \n",
      " block3_conv3 (Conv2D)       (None, 56, 56, 256)       590080    \n",
      "                                                                 \n",
      " block3_pool (MaxPooling2D)  (None, 28, 28, 256)       0         \n",
      "                                                                 \n",
      " block4_conv1 (Conv2D)       (None, 28, 28, 512)       1180160   \n",
      "                                                                 \n",
      " block4_conv2 (Conv2D)       (None, 28, 28, 512)       2359808   \n",
      "                                                                 \n",
      " block4_conv3 (Conv2D)       (None, 28, 28, 512)       2359808   \n",
      "                                                                 \n",
      " block4_pool (MaxPooling2D)  (None, 14, 14, 512)       0         \n",
      "                                                                 \n",
      " block5_conv1 (Conv2D)       (None, 14, 14, 512)       2359808   \n",
      "                                                                 \n",
      " block5_conv2 (Conv2D)       (None, 14, 14, 512)       2359808   \n",
      "                                                                 \n",
      " block5_conv3 (Conv2D)       (None, 14, 14, 512)       2359808   \n",
      "                                                                 \n",
      " block5_pool (MaxPooling2D)  (None, 7, 7, 512)         0         \n",
      "                                                                 \n",
      " flatten (Flatten)           (None, 25088)             0         \n",
      "                                                                 \n",
      " fc1 (Dense)                 (None, 4096)              102764544 \n",
      "                                                                 \n",
      " fc2 (Dense)                 (None, 4096)              16781312  \n",
      "                                                                 \n",
      " dense (Dense)               (None, 10)                40970     \n",
      "                                                                 \n",
      "=================================================================\n",
      "Total params: 134,301,514\n",
      "Trainable params: 134,301,514\n",
      "Non-trainable params: 0\n",
      "_________________________________________________________________\n"
     ]
    }
   ],
   "source": [
    "vgg_model.summary()"
   ]
  },
  {
   "attachments": {},
   "cell_type": "markdown",
   "metadata": {},
   "source": [
    "### prediction:"
   ]
  },
  {
   "cell_type": "code",
   "execution_count": 20,
   "metadata": {},
   "outputs": [],
   "source": [
    "pred = vgg_model.predict(x=test_batches, steps=len(test_batches), verbose=0)"
   ]
  },
  {
   "cell_type": "code",
   "execution_count": 21,
   "metadata": {},
   "outputs": [
    {
     "name": "stdout",
     "output_type": "stream",
     "text": [
      "tf accuracy: 0.23499999940395355\n"
     ]
    }
   ],
   "source": [
    "score =(loss, Accuracy) = vgg_model.evaluate(x=test_batches, steps= len(test_batches), verbose=0)\n",
    "print(f\"tf accuracy: {score[1]}\")"
   ]
  },
  {
   "cell_type": "code",
   "execution_count": 22,
   "metadata": {},
   "outputs": [],
   "source": [
    "pred_class = np.argmax(pred, axis=1)\n",
    "# pred_class = pd.Series(pred_class)"
   ]
  },
  {
   "cell_type": "code",
   "execution_count": 23,
   "metadata": {},
   "outputs": [
    {
     "data": {
      "text/plain": [
       "array([[ 0,  3,  8,  5,  0,  3,  0,  0,  1,  0],\n",
       "       [ 0, 13,  3,  0,  0,  4,  0,  0,  0,  0],\n",
       "       [ 0,  2, 12,  3,  0,  2,  0,  0,  1,  0],\n",
       "       [ 0,  0,  5, 15,  0,  0,  0,  0,  0,  0],\n",
       "       [ 0,  3,  7,  9,  0,  0,  0,  0,  1,  0],\n",
       "       [ 0,  6,  5,  3,  0,  6,  0,  0,  0,  0],\n",
       "       [ 0,  0,  6, 14,  0,  0,  0,  0,  0,  0],\n",
       "       [ 0,  0,  3, 17,  0,  0,  0,  0,  0,  0],\n",
       "       [ 0,  2,  7,  9,  0,  1,  0,  0,  1,  0],\n",
       "       [ 0,  0,  5, 14,  0,  0,  0,  0,  1,  0]])"
      ]
     },
     "execution_count": 23,
     "metadata": {},
     "output_type": "execute_result"
    }
   ],
   "source": [
    "cm = confusion_matrix(\n",
    "    test_batches.classes,\n",
    "    pred_class\n",
    ")\n",
    "cm"
   ]
  },
  {
   "cell_type": "code",
   "execution_count": 24,
   "metadata": {},
   "outputs": [
    {
     "data": {
      "image/png": "[encoded data removed]",
      "text/plain": [
       "<Figure size 700x700 with 1 Axes>"
      ]
     },
     "metadata": {},
     "output_type": "display_data"
    }
   ],
   "source": [
    "fig = plt.figure(figsize=(7,7))\n",
    "ax = fig.add_subplot(111)\n",
    "ConfusionMatrixDisplay(\n",
    "    cm,\n",
    "    display_labels=genres\n",
    ").plot(\n",
    "    xticks_rotation=90,\n",
    "    cmap=\"Blues\",\n",
    "    colorbar=False,\n",
    "    ax=ax\n",
    ")\n",
    "fig.tight_layout()"
   ]
  },
  {
   "cell_type": "code",
   "execution_count": 25,
   "metadata": {},
   "outputs": [],
   "source": [
    "fig.savefig(\n",
    "    get_project_root() / \"output/vgg16-train-all-layers/vgg16-train-all-layers_cm.svg\"\n",
    ")\n",
    "fig.savefig(\n",
    "    get_project_root() / \"output/vgg16-train-all-layers/vgg16-train-all-layers_cm.png\"\n",
    ")"
   ]
  },
  {
   "cell_type": "code",
   "execution_count": 26,
   "metadata": {},
   "outputs": [],
   "source": [
    "def average_metrics(y_test, y_pred):\n",
    "    scorers = {\n",
    "        \"accuracy\": accuracy_score(y_test, y_pred),\n",
    "        \"f1_micro\": f1_score(y_test, y_pred, average=\"micro\"),\n",
    "        \"f1_macro\": f1_score(y_test, y_pred, average=\"macro\"),\n",
    "        \"recall_micro\": recall_score(y_test, y_pred, average=\"micro\"),\n",
    "        \"recall_macro\": recall_score(y_test, y_pred, average=\"macro\"),\n",
    "        \"precision_micro\": precision_score(y_test, y_pred, average=\"micro\"),\n",
    "        \"precision_macro\": precision_score(y_test, y_pred, average=\"macro\")\n",
    "    }\n",
    "    df = pd.DataFrame(index=scorers.keys(), columns=[\"metric score\"])\n",
    "    for scorer in scorers.keys():\n",
    "        df.at[scorer, \"metric score\"] = scorers[scorer]\n",
    "    df=df.transpose()\n",
    "    return df\n",
    "\n",
    "def class_metrics(y_test, y_pred, class_labels):\n",
    "    df = pd.DataFrame(index=list(class_labels))\n",
    "\n",
    "    for scorer in [\n",
    "        (\"recall\", recall_score),\n",
    "        (\"precision\", precision_score),\n",
    "        (\"f1\", f1_score)\n",
    "    ]:\n",
    "        metric_score = scorer[1](\n",
    "            y_test,\n",
    "            y_pred,\n",
    "            average=None,\n",
    "            # labels=list(class_labels)\n",
    "        )\n",
    "        df[scorer[0]] = metric_score\n",
    "\n",
    "    df = df.transpose()\n",
    "\n",
    "    return df"
   ]
  },
  {
   "cell_type": "code",
   "execution_count": 27,
   "metadata": {},
   "outputs": [
    {
     "name": "stderr",
     "output_type": "stream",
     "text": [
      "/Users/djq98242/Library/Caches/pypoetry/virtualenvs/genreclassification-qGJVucn0-py3.9/lib/python3.9/site-packages/sklearn/metrics/_classification.py:1334: UndefinedMetricWarning: Precision is ill-defined and being set to 0.0 in labels with no predicted samples. Use `zero_division` parameter to control this behavior.\n",
      "  _warn_prf(average, modifier, msg_start, len(result))\n"
     ]
    },
    {
     "data": {
      "text/html": [
       "<div>\n",
       "<style scoped>\n",
       "    .dataframe tbody tr th:only-of-type {\n",
       "        vertical-align: middle;\n",
       "    }\n",
       "\n",
       "    .dataframe tbody tr th {\n",
       "        vertical-align: top;\n",
       "    }\n",
       "\n",
       "    .dataframe thead th {\n",
       "        text-align: right;\n",
       "    }\n",
       "</style>\n",
       "<table border=\"1\" class=\"dataframe\">\n",
       "  <thead>\n",
       "    <tr style=\"text-align: right;\">\n",
       "      <th></th>\n",
       "      <th>accuracy</th>\n",
       "      <th>f1_micro</th>\n",
       "      <th>f1_macro</th>\n",
       "      <th>recall_micro</th>\n",
       "      <th>recall_macro</th>\n",
       "      <th>precision_micro</th>\n",
       "      <th>precision_macro</th>\n",
       "    </tr>\n",
       "  </thead>\n",
       "  <tbody>\n",
       "    <tr>\n",
       "      <th>metric score</th>\n",
       "      <td>0.235</td>\n",
       "      <td>0.235</td>\n",
       "      <td>0.151547</td>\n",
       "      <td>0.235</td>\n",
       "      <td>0.235</td>\n",
       "      <td>0.235</td>\n",
       "      <td>0.138854</td>\n",
       "    </tr>\n",
       "  </tbody>\n",
       "</table>\n",
       "</div>"
      ],
      "text/plain": [
       "             accuracy f1_micro  f1_macro recall_micro recall_macro  \\\n",
       "metric score    0.235    0.235  0.151547        0.235        0.235   \n",
       "\n",
       "             precision_micro precision_macro  \n",
       "metric score           0.235        0.138854  "
      ]
     },
     "execution_count": 27,
     "metadata": {},
     "output_type": "execute_result"
    }
   ],
   "source": [
    "av_metrics = average_metrics(test_batches.classes, pred_class)\n",
    "av_metrics"
   ]
  },
  {
   "cell_type": "code",
   "execution_count": 28,
   "metadata": {},
   "outputs": [
    {
     "name": "stderr",
     "output_type": "stream",
     "text": [
      "[0112/132434.924300:INFO:headless_shell.cc(223)] 20719 bytes written to file /var/folders/ng/4x8hyf_s39b2rqzs184hl_lr0000gp/T/tmptb2s0jgw/temp.png\n",
      "[0112/132435.937034:INFO:headless_shell.cc(223)] 28108 bytes written to file /var/folders/ng/4x8hyf_s39b2rqzs184hl_lr0000gp/T/tmp0a03rvhl/temp.png\n"
     ]
    }
   ],
   "source": [
    "dfi.export(\n",
    "    av_metrics,\n",
    "    \"../output/vgg16-train-all-layers/vgg16-train-all-layers_average_metrics.png\"\n",
    ")\n",
    "\n",
    "av_metrics_t = av_metrics.transpose()\n",
    "dfi.export(\n",
    "    av_metrics_t,\n",
    "    \"../output/vgg16-train-all-layers/vgg16-train-all-layers_average_metrics_t.png\"\n",
    ")"
   ]
  },
  {
   "cell_type": "code",
   "execution_count": 29,
   "metadata": {},
   "outputs": [
    {
     "name": "stderr",
     "output_type": "stream",
     "text": [
      "/Users/djq98242/Library/Caches/pypoetry/virtualenvs/genreclassification-qGJVucn0-py3.9/lib/python3.9/site-packages/sklearn/metrics/_classification.py:1334: UndefinedMetricWarning: Recall is ill-defined and being set to 0.0 in labels with no true samples. Use `zero_division` parameter to control this behavior.\n",
      "  _warn_prf(average, modifier, msg_start, len(result))\n"
     ]
    },
    {
     "data": {
      "text/html": [
       "<div>\n",
       "<style scoped>\n",
       "    .dataframe tbody tr th:only-of-type {\n",
       "        vertical-align: middle;\n",
       "    }\n",
       "\n",
       "    .dataframe tbody tr th {\n",
       "        vertical-align: top;\n",
       "    }\n",
       "\n",
       "    .dataframe thead th {\n",
       "        text-align: right;\n",
       "    }\n",
       "</style>\n",
       "<table border=\"1\" class=\"dataframe\">\n",
       "  <thead>\n",
       "    <tr style=\"text-align: right;\">\n",
       "      <th></th>\n",
       "      <th>blues</th>\n",
       "      <th>classical</th>\n",
       "      <th>country</th>\n",
       "      <th>disco</th>\n",
       "      <th>hiphop</th>\n",
       "      <th>jazz</th>\n",
       "      <th>metal</th>\n",
       "      <th>pop</th>\n",
       "      <th>reggae</th>\n",
       "      <th>rock</th>\n",
       "    </tr>\n",
       "  </thead>\n",
       "  <tbody>\n",
       "    <tr>\n",
       "      <th>recall</th>\n",
       "      <td>0.0</td>\n",
       "      <td>0.448276</td>\n",
       "      <td>0.196721</td>\n",
       "      <td>0.168539</td>\n",
       "      <td>0.0</td>\n",
       "      <td>0.375000</td>\n",
       "      <td>0.0</td>\n",
       "      <td>0.0</td>\n",
       "      <td>0.20</td>\n",
       "      <td>0.0</td>\n",
       "    </tr>\n",
       "    <tr>\n",
       "      <th>precision</th>\n",
       "      <td>0.0</td>\n",
       "      <td>0.650000</td>\n",
       "      <td>0.600000</td>\n",
       "      <td>0.750000</td>\n",
       "      <td>0.0</td>\n",
       "      <td>0.300000</td>\n",
       "      <td>0.0</td>\n",
       "      <td>0.0</td>\n",
       "      <td>0.05</td>\n",
       "      <td>0.0</td>\n",
       "    </tr>\n",
       "    <tr>\n",
       "      <th>f1</th>\n",
       "      <td>0.0</td>\n",
       "      <td>0.530612</td>\n",
       "      <td>0.296296</td>\n",
       "      <td>0.275229</td>\n",
       "      <td>0.0</td>\n",
       "      <td>0.333333</td>\n",
       "      <td>0.0</td>\n",
       "      <td>0.0</td>\n",
       "      <td>0.08</td>\n",
       "      <td>0.0</td>\n",
       "    </tr>\n",
       "  </tbody>\n",
       "</table>\n",
       "</div>"
      ],
      "text/plain": [
       "           blues  classical   country     disco  hiphop      jazz  metal  pop  \\\n",
       "recall       0.0   0.448276  0.196721  0.168539     0.0  0.375000    0.0  0.0   \n",
       "precision    0.0   0.650000  0.600000  0.750000     0.0  0.300000    0.0  0.0   \n",
       "f1           0.0   0.530612  0.296296  0.275229     0.0  0.333333    0.0  0.0   \n",
       "\n",
       "           reggae  rock  \n",
       "recall       0.20   0.0  \n",
       "precision    0.05   0.0  \n",
       "f1           0.08   0.0  "
      ]
     },
     "execution_count": 29,
     "metadata": {},
     "output_type": "execute_result"
    }
   ],
   "source": [
    "c_metrics = class_metrics(\n",
    "    test_batches.classes,\n",
    "    pred_class,\n",
    "    genres\n",
    ")\n",
    "c_metrics"
   ]
  },
  {
   "cell_type": "code",
   "execution_count": 30,
   "metadata": {},
   "outputs": [
    {
     "name": "stderr",
     "output_type": "stream",
     "text": [
      "[0112/132437.570590:INFO:headless_shell.cc(223)] 31956 bytes written to file /var/folders/ng/4x8hyf_s39b2rqzs184hl_lr0000gp/T/tmp66elojbh/temp.png\n",
      "[0112/132438.263575:INFO:headless_shell.cc(223)] 39848 bytes written to file /var/folders/ng/4x8hyf_s39b2rqzs184hl_lr0000gp/T/tmpnfqcrboh/temp.png\n"
     ]
    }
   ],
   "source": [
    "dfi.export(\n",
    "    c_metrics,\n",
    "    \"../output/vgg16-train-all-layers/vgg16-train-all-layers_class_metrics.png\"\n",
    ")\n",
    "\n",
    "c_metrics_t = c_metrics.transpose()\n",
    "dfi.export(\n",
    "    c_metrics_t,\n",
    "    \"../output/vgg16-train-all-layers/vgg16-train-all-layers_class_metrics_t.png\"\n",
    ")"
   ]
  },
  {
   "cell_type": "code",
   "execution_count": null,
   "metadata": {},
   "outputs": [],
   "source": []
  }
 ],
 "metadata": {
  "kernelspec": {
   "display_name": "genreclassification-qGJVucn0-py3.9",
   "language": "python",
   "name": "python3"
  },
  "language_info": {
   "codemirror_mode": {
    "name": "ipython",
    "version": 3
   },
   "file_extension": ".py",
   "mimetype": "text/x-python",
   "name": "python",
   "nbconvert_exporter": "python",
   "pygments_lexer": "ipython3",
   "version": "3.9.15"
  },
  "orig_nbformat": 4,
  "vscode": {
   "interpreter": {
    "hash": "071c4954f4b056e381337a2b30bebca67942706fcde46b495279624c5d47332a"
   }
  }
 },
 "nbformat": 4,
 "nbformat_minor": 2
}
