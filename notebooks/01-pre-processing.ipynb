{
 "cells": [
  {
   "cell_type": "code",
   "execution_count": 1,
   "metadata": {},
   "outputs": [],
   "source": [
    "import pandas as pd\n",
    "\n",
    "from sklearn.model_selection import train_test_split\n",
    "from sklearn.preprocessing import MinMaxScaler\n",
    "\n",
    "from genreclassification.utils import get_project_root\n",
    "\n",
    "import dataframe_image as dfi\n",
    "pd.set_option(\"display.max_columns\", None)"
   ]
  },
  {
   "cell_type": "markdown",
   "metadata": {},
   "source": [
    "# pre-processing"
   ]
  },
  {
   "cell_type": "markdown",
   "metadata": {},
   "source": [
    "* use same pre-processing for either the classic ML or MLNN\n",
    "* decided to keep the outliers for now\n",
    "* no need to resample as there is balance across the class labels\n",
    "* lots of the extracted features are variation about mean\n",
    "    * -> these features do not show gaussian distribution within each class (kind of expected)\n",
    "    * -> use MinMaxScaler rather that StandardScaler"
   ]
  },
  {
   "cell_type": "code",
   "execution_count": 2,
   "metadata": {},
   "outputs": [],
   "source": [
    "df_30 = pd.read_csv(\n",
    "    get_project_root() / \"data/features_30_sec.csv\"\n",
    ")\n",
    "\n",
    "df_3 = pd.read_csv(\n",
    "    get_project_root() / \"data/features_3_sec.csv\"\n",
    ")"
   ]
  },
  {
   "cell_type": "markdown",
   "metadata": {},
   "source": [
    "### features / targets:"
   ]
  },
  {
   "cell_type": "code",
   "execution_count": 3,
   "metadata": {},
   "outputs": [],
   "source": [
    "# get the target labels:\n",
    "df_3_y = df_3[\"label\"]\n",
    "\n",
    "# find the training features:\n",
    "df_3_x = df_3.drop(\n",
    "    columns=[\"filename\", \"length\", \"label\"]\n",
    ")"
   ]
  },
  {
   "cell_type": "markdown",
   "metadata": {},
   "source": [
    "### test split before scaling:"
   ]
  },
  {
   "cell_type": "code",
   "execution_count": 4,
   "metadata": {},
   "outputs": [],
   "source": [
    "x_train, x_test, y_train, y_test = train_test_split(\n",
    "    df_3_x,\n",
    "    df_3_y,\n",
    "    test_size=0.2,\n",
    "    random_state=42\n",
    ")"
   ]
  },
  {
   "cell_type": "markdown",
   "metadata": {},
   "source": [
    "### MinMax scaling for the training set:"
   ]
  },
  {
   "cell_type": "code",
   "execution_count": 5,
   "metadata": {},
   "outputs": [],
   "source": [
    "scaler = MinMaxScaler((0,1))\n",
    "# scale fetures and get column names\n",
    "scale_cols = x_train.columns\n",
    "x_scaled = scaler.fit_transform(x_train[scale_cols])\n",
    "# retrieve column names for scaled df:\n",
    "x_train_scaled = pd.DataFrame(\n",
    "    x_scaled,\n",
    "    columns=scale_cols\n",
    ")\n"
   ]
  },
  {
   "cell_type": "markdown",
   "metadata": {},
   "source": [
    "* copy above cells to work on classification notebooks"
   ]
  }
 ],
 "metadata": {
  "kernelspec": {
   "display_name": "Python 3.9.15 ('genreclassification-qGJVucn0-py3.9')",
   "language": "python",
   "name": "python3"
  },
  "language_info": {
   "codemirror_mode": {
    "name": "ipython",
    "version": 3
   },
   "file_extension": ".py",
   "mimetype": "text/x-python",
   "name": "python",
   "nbconvert_exporter": "python",
   "pygments_lexer": "ipython3",
   "version": "3.9.15"
  },
  "orig_nbformat": 4,
  "vscode": {
   "interpreter": {
    "hash": "071c4954f4b056e381337a2b30bebca67942706fcde46b495279624c5d47332a"
   }
  }
 },
 "nbformat": 4,
 "nbformat_minor": 2
}
