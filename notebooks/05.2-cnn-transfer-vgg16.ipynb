{
 "cells": [
  {
   "cell_type": "code",
   "execution_count": 2,
   "metadata": {},
   "outputs": [
    {
     "name": "stderr",
     "output_type": "stream",
     "text": [
      "2023-01-12 10:07:22.461897: I tensorflow/core/platform/cpu_feature_guard.cc:193] This TensorFlow binary is optimized with oneAPI Deep Neural Network Library (oneDNN) to use the following CPU instructions in performance-critical operations:  AVX2 AVX512F AVX512_VNNI FMA\n",
      "To enable them in other operations, rebuild TensorFlow with the appropriate compiler flags.\n"
     ]
    }
   ],
   "source": [
    "import numpy as np\n",
    "from genreclassification.utils import get_project_root\n",
    "import pandas as pd\n",
    "import matplotlib.pyplot as plt\n",
    "import tensorflow as tf\n",
    "from tensorflow.keras.preprocessing.image import ImageDataGenerator\n",
    "from tensorflow.keras.models import Sequential, load_model\n",
    "from tensorflow.keras.layers import Dense\n",
    "from tensorflow.keras.optimizers import Adam\n",
    "from keras.callbacks import History, EarlyStopping\n",
    "from sklearn.metrics import confusion_matrix, ConfusionMatrixDisplay\n",
    "from sklearn.metrics import accuracy_score, recall_score, precision_score, f1_score\n",
    "\n",
    "import dataframe_image as dfi\n",
    "pd.set_option(\"display.max_columns\", None)"
   ]
  },
  {
   "attachments": {},
   "cell_type": "markdown",
   "metadata": {},
   "source": [
    "# cnn transfer learning (vgg16)"
   ]
  },
  {
   "attachments": {},
   "cell_type": "markdown",
   "metadata": {},
   "source": [
    "* train CNN from here or jump to [testing](#performance-on-test-set) to load a saved model"
   ]
  },
  {
   "cell_type": "code",
   "execution_count": 3,
   "metadata": {},
   "outputs": [],
   "source": [
    "genres = [\"blues\", \"classical\", \"country\", \"disco\",\t\"hiphop\", \"jazz\", \"metal\", \"pop\", \"reggae\", \"rock\"]"
   ]
  },
  {
   "cell_type": "code",
   "execution_count": 4,
   "metadata": {},
   "outputs": [],
   "source": [
    "train_path = get_project_root()/\"data/images_split/train\"\n",
    "val_path = get_project_root()/\"data/images_split/val\""
   ]
  },
  {
   "cell_type": "code",
   "execution_count": 5,
   "metadata": {},
   "outputs": [
    {
     "name": "stdout",
     "output_type": "stream",
     "text": [
      "Found 639 images belonging to 10 classes.\n",
      "Found 160 images belonging to 10 classes.\n",
      "Found 200 images belonging to 10 classes.\n"
     ]
    }
   ],
   "source": [
    "train_batches = ImageDataGenerator(preprocessing_function=tf.keras.applications.vgg16.preprocess_input) \\\n",
    "    .flow_from_directory(directory=train_path, target_size=(244,244), classes=genres, batch_size=16)\n",
    "\n",
    "val_batches = ImageDataGenerator(preprocessing_function=tf.keras.applications.vgg16.preprocess_input) \\\n",
    "    .flow_from_directory(directory=val_path, target_size=(244,244), classes=genres, batch_size=16)"
   ]
  },
  {
   "cell_type": "code",
   "execution_count": 6,
   "metadata": {},
   "outputs": [
    {
     "data": {
      "text/plain": [
       "0    64\n",
       "1    64\n",
       "2    64\n",
       "3    64\n",
       "4    64\n",
       "6    64\n",
       "7    64\n",
       "8    64\n",
       "9    64\n",
       "5    63\n",
       "dtype: int64"
      ]
     },
     "execution_count": 6,
     "metadata": {},
     "output_type": "execute_result"
    }
   ],
   "source": [
    "pd.Series(train_batches.classes).value_counts()"
   ]
  },
  {
   "cell_type": "code",
   "execution_count": 7,
   "metadata": {},
   "outputs": [
    {
     "name": "stderr",
     "output_type": "stream",
     "text": [
      "2023-01-02 00:59:10.225222: I tensorflow/core/platform/cpu_feature_guard.cc:193] This TensorFlow binary is optimized with oneAPI Deep Neural Network Library (oneDNN) to use the following CPU instructions in performance-critical operations:  AVX2 AVX512F AVX512_VNNI FMA\n",
      "To enable them in other operations, rebuild TensorFlow with the appropriate compiler flags.\n"
     ]
    }
   ],
   "source": [
    "vgg16 = tf.keras.applications.vgg16.VGG16()"
   ]
  },
  {
   "cell_type": "code",
   "execution_count": 8,
   "metadata": {},
   "outputs": [],
   "source": [
    "# vgg16.summary()"
   ]
  },
  {
   "cell_type": "code",
   "execution_count": 9,
   "metadata": {},
   "outputs": [],
   "source": [
    "vgg_model = Sequential()\n",
    "for layer in vgg16.layers[:-1]:\n",
    "    vgg_model.add(layer)"
   ]
  },
  {
   "cell_type": "code",
   "execution_count": 10,
   "metadata": {},
   "outputs": [],
   "source": [
    "for layer in vgg_model.layers:\n",
    "    layer.trainable = False"
   ]
  },
  {
   "cell_type": "code",
   "execution_count": 11,
   "metadata": {},
   "outputs": [],
   "source": [
    "vgg_model.add(Dense(units=10, activation=\"softmax\"))"
   ]
  },
  {
   "cell_type": "code",
   "execution_count": 12,
   "metadata": {},
   "outputs": [],
   "source": [
    "# vgg_model.summary()"
   ]
  },
  {
   "cell_type": "code",
   "execution_count": 13,
   "metadata": {},
   "outputs": [],
   "source": [
    "vgg_model.compile(optimizer='adam', loss='categorical_crossentropy', metrics=['accuracy'])"
   ]
  },
  {
   "cell_type": "code",
   "execution_count": 14,
   "metadata": {},
   "outputs": [
    {
     "name": "stdout",
     "output_type": "stream",
     "text": [
      "Epoch 1/16\n",
      "40/40 - 99s - loss: 2.1269 - accuracy: 0.3380 - val_loss: 1.3108 - val_accuracy: 0.5375 - 99s/epoch - 2s/step\n",
      "Epoch 2/16\n",
      "40/40 - 97s - loss: 1.3116 - accuracy: 0.5540 - val_loss: 1.2818 - val_accuracy: 0.5500 - 97s/epoch - 2s/step\n",
      "Epoch 3/16\n",
      "40/40 - 96s - loss: 1.0398 - accuracy: 0.6338 - val_loss: 1.4217 - val_accuracy: 0.5312 - 96s/epoch - 2s/step\n",
      "Epoch 4/16\n",
      "40/40 - 97s - loss: 0.8747 - accuracy: 0.7199 - val_loss: 1.1604 - val_accuracy: 0.5813 - 97s/epoch - 2s/step\n",
      "Epoch 5/16\n",
      "40/40 - 96s - loss: 0.7415 - accuracy: 0.7637 - val_loss: 1.3489 - val_accuracy: 0.5813 - 96s/epoch - 2s/step\n",
      "Epoch 6/16\n",
      "40/40 - 96s - loss: 0.6441 - accuracy: 0.7840 - val_loss: 1.2657 - val_accuracy: 0.6125 - 96s/epoch - 2s/step\n",
      "Epoch 7/16\n",
      "40/40 - 92s - loss: 0.6083 - accuracy: 0.7903 - val_loss: 1.1933 - val_accuracy: 0.6187 - 92s/epoch - 2s/step\n",
      "Epoch 8/16\n",
      "40/40 - 92s - loss: 0.4592 - accuracy: 0.8701 - val_loss: 1.1900 - val_accuracy: 0.6250 - 92s/epoch - 2s/step\n",
      "Epoch 9/16\n",
      "40/40 - 92s - loss: 0.4391 - accuracy: 0.8748 - val_loss: 1.3059 - val_accuracy: 0.5813 - 92s/epoch - 2s/step\n",
      "Epoch 10/16\n",
      "40/40 - 92s - loss: 0.4259 - accuracy: 0.8732 - val_loss: 1.2819 - val_accuracy: 0.6250 - 92s/epoch - 2s/step\n",
      "Epoch 11/16\n",
      "40/40 - 92s - loss: 0.3292 - accuracy: 0.9186 - val_loss: 1.2329 - val_accuracy: 0.6500 - 92s/epoch - 2s/step\n",
      "Epoch 12/16\n",
      "40/40 - 92s - loss: 0.3094 - accuracy: 0.9233 - val_loss: 1.2448 - val_accuracy: 0.6313 - 92s/epoch - 2s/step\n",
      "Epoch 13/16\n",
      "40/40 - 92s - loss: 0.2326 - accuracy: 0.9640 - val_loss: 1.2026 - val_accuracy: 0.6250 - 92s/epoch - 2s/step\n",
      "Epoch 14/16\n",
      "40/40 - 92s - loss: 0.2136 - accuracy: 0.9718 - val_loss: 1.2004 - val_accuracy: 0.6250 - 92s/epoch - 2s/step\n",
      "Epoch 15/16\n",
      "40/40 - 92s - loss: 0.1870 - accuracy: 0.9765 - val_loss: 1.2431 - val_accuracy: 0.6250 - 92s/epoch - 2s/step\n",
      "Epoch 16/16\n",
      "40/40 - 92s - loss: 0.1931 - accuracy: 0.9671 - val_loss: 1.2131 - val_accuracy: 0.6438 - 92s/epoch - 2s/step\n"
     ]
    },
    {
     "data": {
      "text/plain": [
       "<keras.callbacks.History at 0x15c664d90>"
      ]
     },
     "execution_count": 14,
     "metadata": {},
     "output_type": "execute_result"
    }
   ],
   "source": [
    "epochs = 16\n",
    "history = History()\n",
    "\n",
    "# restore best model by val_loss\n",
    "# patience == num epochs so doesn't actually stop early\n",
    "early_stopping = EarlyStopping(\n",
    "    monitor=\"val_loss\",\n",
    "    min_delta=0,\n",
    "    restore_best_weights=True,\n",
    "    patience=epochs,\n",
    "    baseline=None\n",
    ")\n",
    "\n",
    "vgg_model.fit(\n",
    "    x=train_batches,\n",
    "    steps_per_epoch=len(train_batches),\n",
    "    validation_data=val_batches,\n",
    "    validation_steps=len(val_batches),\n",
    "    epochs=epochs,\n",
    "    verbose=2,\n",
    "    callbacks=[\n",
    "        history,\n",
    "        early_stopping\n",
    "    ]\n",
    ")"
   ]
  },
  {
   "cell_type": "code",
   "execution_count": 15,
   "metadata": {},
   "outputs": [
    {
     "data": {
      "text/plain": [
       "dict_keys(['loss', 'accuracy', 'val_loss', 'val_accuracy'])"
      ]
     },
     "execution_count": 15,
     "metadata": {},
     "output_type": "execute_result"
    }
   ],
   "source": [
    "history.history.keys()"
   ]
  },
  {
   "cell_type": "code",
   "execution_count": 16,
   "metadata": {},
   "outputs": [
    {
     "data": {
      "image/png": "[encoded data removed]",
      "text/plain": [
       "<Figure size 1000x600 with 1 Axes>"
      ]
     },
     "metadata": {},
     "output_type": "display_data"
    }
   ],
   "source": [
    "fig = plt.figure(\n",
    "    figsize=(10,6)\n",
    ")\n",
    "ax = fig.add_subplot(111)\n",
    "\n",
    "ax.plot(history.history[\"accuracy\"], label=\"training\", linewidth=0.7)\n",
    "ax.plot(history.history[\"val_accuracy\"], label=\"validation\", linewidth=0.7)\n",
    "\n",
    "ax.set_xlabel(\"epoch\")\n",
    "ax.set_ylabel(\"accuracy\")\n",
    "ax.legend()\n",
    "\n",
    "fig.tight_layout()"
   ]
  },
  {
   "cell_type": "markdown",
   "metadata": {},
   "source": [
    "### save training fig:"
   ]
  },
  {
   "cell_type": "code",
   "execution_count": 18,
   "metadata": {},
   "outputs": [],
   "source": [
    "fig.savefig(\n",
    "    get_project_root() / \"models/vgg/train-val.svg\"\n",
    ")\n",
    "fig.savefig(\n",
    "    get_project_root() / \"models/vgg/train-val.png\"\n",
    ")"
   ]
  },
  {
   "cell_type": "markdown",
   "metadata": {},
   "source": [
    "### save model:"
   ]
  },
  {
   "cell_type": "code",
   "execution_count": 19,
   "metadata": {},
   "outputs": [
    {
     "name": "stderr",
     "output_type": "stream",
     "text": [
      "WARNING:absl:Found untraced functions such as _jit_compiled_convolution_op, _jit_compiled_convolution_op, _jit_compiled_convolution_op, _jit_compiled_convolution_op, _jit_compiled_convolution_op while saving (showing 5 of 13). These functions will not be directly callable after loading.\n"
     ]
    },
    {
     "name": "stdout",
     "output_type": "stream",
     "text": [
      "INFO:tensorflow:Assets written to: /Users/djq98242/repos/genre_classification/models/vgg/vgg/assets\n"
     ]
    },
    {
     "name": "stderr",
     "output_type": "stream",
     "text": [
      "INFO:tensorflow:Assets written to: /Users/djq98242/repos/genre_classification/models/vgg/vgg/assets\n"
     ]
    }
   ],
   "source": [
    "vgg_model.save(\n",
    "    get_project_root() / \"models/vgg/vgg\"\n",
    ")"
   ]
  },
  {
   "attachments": {},
   "cell_type": "markdown",
   "metadata": {},
   "source": [
    "## performance on test set"
   ]
  },
  {
   "cell_type": "code",
   "execution_count": 3,
   "metadata": {},
   "outputs": [
    {
     "name": "stdout",
     "output_type": "stream",
     "text": [
      "Found 200 images belonging to 10 classes.\n"
     ]
    }
   ],
   "source": [
    "genres = [\"blues\", \"classical\", \"country\", \"disco\",\t\"hiphop\", \"jazz\", \"metal\", \"pop\", \"reggae\", \"rock\"]\n",
    "\n",
    "test_path = get_project_root()/\"data/images_split/test\"\n",
    "\n",
    "# load test set with shuffle=False\n",
    "test_batches = ImageDataGenerator(preprocessing_function=tf.keras.applications.vgg16.preprocess_input) \\\n",
    "    .flow_from_directory(directory=test_path, target_size=(244,244), classes=genres, batch_size=16, shuffle=False)"
   ]
  },
  {
   "cell_type": "markdown",
   "metadata": {},
   "source": [
    "### load model:"
   ]
  },
  {
   "cell_type": "code",
   "execution_count": 4,
   "metadata": {},
   "outputs": [
    {
     "name": "stderr",
     "output_type": "stream",
     "text": [
      "2023-01-12 10:07:55.487180: I tensorflow/core/platform/cpu_feature_guard.cc:193] This TensorFlow binary is optimized with oneAPI Deep Neural Network Library (oneDNN) to use the following CPU instructions in performance-critical operations:  AVX2 AVX512F AVX512_VNNI FMA\n",
      "To enable them in other operations, rebuild TensorFlow with the appropriate compiler flags.\n"
     ]
    }
   ],
   "source": [
    "# vgg_model = load_model(\n",
    "#     get_project_root() / \"models/vgg/vgg\"\n",
    "# )"
   ]
  },
  {
   "cell_type": "code",
   "execution_count": 5,
   "metadata": {},
   "outputs": [
    {
     "name": "stdout",
     "output_type": "stream",
     "text": [
      "Model: \"sequential\"\n",
      "_________________________________________________________________\n",
      " Layer (type)                Output Shape              Param #   \n",
      "=================================================================\n",
      " block1_conv1 (Conv2D)       (None, 224, 224, 64)      1792      \n",
      "                                                                 \n",
      " block1_conv2 (Conv2D)       (None, 224, 224, 64)      36928     \n",
      "                                                                 \n",
      " block1_pool (MaxPooling2D)  (None, 112, 112, 64)      0         \n",
      "                                                                 \n",
      " block2_conv1 (Conv2D)       (None, 112, 112, 128)     73856     \n",
      "                                                                 \n",
      " block2_conv2 (Conv2D)       (None, 112, 112, 128)     147584    \n",
      "                                                                 \n",
      " block2_pool (MaxPooling2D)  (None, 56, 56, 128)       0         \n",
      "                                                                 \n",
      " block3_conv1 (Conv2D)       (None, 56, 56, 256)       295168    \n",
      "                                                                 \n",
      " block3_conv2 (Conv2D)       (None, 56, 56, 256)       590080    \n",
      "                                                                 \n",
      " block3_conv3 (Conv2D)       (None, 56, 56, 256)       590080    \n",
      "                                                                 \n",
      " block3_pool (MaxPooling2D)  (None, 28, 28, 256)       0         \n",
      "                                                                 \n",
      " block4_conv1 (Conv2D)       (None, 28, 28, 512)       1180160   \n",
      "                                                                 \n",
      " block4_conv2 (Conv2D)       (None, 28, 28, 512)       2359808   \n",
      "                                                                 \n",
      " block4_conv3 (Conv2D)       (None, 28, 28, 512)       2359808   \n",
      "                                                                 \n",
      " block4_pool (MaxPooling2D)  (None, 14, 14, 512)       0         \n",
      "                                                                 \n",
      " block5_conv1 (Conv2D)       (None, 14, 14, 512)       2359808   \n",
      "                                                                 \n",
      " block5_conv2 (Conv2D)       (None, 14, 14, 512)       2359808   \n",
      "                                                                 \n",
      " block5_conv3 (Conv2D)       (None, 14, 14, 512)       2359808   \n",
      "                                                                 \n",
      " block5_pool (MaxPooling2D)  (None, 7, 7, 512)         0         \n",
      "                                                                 \n",
      " flatten (Flatten)           (None, 25088)             0         \n",
      "                                                                 \n",
      " fc1 (Dense)                 (None, 4096)              102764544 \n",
      "                                                                 \n",
      " fc2 (Dense)                 (None, 4096)              16781312  \n",
      "                                                                 \n",
      " dense (Dense)               (None, 10)                40970     \n",
      "                                                                 \n",
      "=================================================================\n",
      "Total params: 134,301,514\n",
      "Trainable params: 40,970\n",
      "Non-trainable params: 134,260,544\n",
      "_________________________________________________________________\n"
     ]
    }
   ],
   "source": [
    "vgg_model.summary()"
   ]
  },
  {
   "attachments": {},
   "cell_type": "markdown",
   "metadata": {},
   "source": [
    "### prediction:"
   ]
  },
  {
   "cell_type": "code",
   "execution_count": 6,
   "metadata": {},
   "outputs": [],
   "source": [
    "pred = vgg_model.predict(x=test_batches, steps=len(test_batches), verbose=0)"
   ]
  },
  {
   "cell_type": "code",
   "execution_count": 7,
   "metadata": {},
   "outputs": [],
   "source": [
    "# np.argmax(pred, axis=1)"
   ]
  },
  {
   "cell_type": "code",
   "execution_count": 8,
   "metadata": {},
   "outputs": [],
   "source": [
    "# test_batches.classes"
   ]
  },
  {
   "cell_type": "code",
   "execution_count": 9,
   "metadata": {},
   "outputs": [
    {
     "name": "stdout",
     "output_type": "stream",
     "text": [
      "tf accuracy: 0.6650000214576721\n"
     ]
    }
   ],
   "source": [
    "score =(loss, Accuracy) = vgg_model.evaluate(x=test_batches, steps= len(test_batches), verbose=0)\n",
    "print(f\"tf accuracy: {score[1]}\")"
   ]
  },
  {
   "cell_type": "code",
   "execution_count": 10,
   "metadata": {},
   "outputs": [],
   "source": [
    "pred_class = np.argmax(pred, axis=1)\n",
    "# pred_class = pd.Series(pred_class)"
   ]
  },
  {
   "cell_type": "code",
   "execution_count": 11,
   "metadata": {},
   "outputs": [
    {
     "data": {
      "text/plain": [
       "array([[11,  0,  1,  0,  0,  2,  2,  0,  3,  1],\n",
       "       [ 0, 19,  0,  0,  0,  1,  0,  0,  0,  0],\n",
       "       [ 0,  0, 15,  0,  0,  1,  0,  0,  0,  4],\n",
       "       [ 2,  0,  0, 13,  2,  0,  0,  0,  1,  2],\n",
       "       [ 0,  0,  0,  0, 15,  2,  1,  1,  1,  0],\n",
       "       [ 2,  4,  2,  0,  0, 12,  0,  0,  0,  0],\n",
       "       [ 0,  0,  0,  0,  0,  0, 19,  0,  0,  1],\n",
       "       [ 0,  0,  1,  1,  1,  0,  0, 16,  0,  1],\n",
       "       [ 0,  0,  0,  2,  2,  0,  1,  5,  9,  1],\n",
       "       [ 2,  1,  4,  1,  0,  0,  7,  1,  0,  4]])"
      ]
     },
     "execution_count": 11,
     "metadata": {},
     "output_type": "execute_result"
    }
   ],
   "source": [
    "cm = confusion_matrix(\n",
    "    test_batches.classes,\n",
    "    pred_class\n",
    ")\n",
    "cm"
   ]
  },
  {
   "cell_type": "code",
   "execution_count": 12,
   "metadata": {},
   "outputs": [
    {
     "data": {
      "image/png": "[encoded data removed]",
      "text/plain": [
       "<Figure size 700x700 with 1 Axes>"
      ]
     },
     "metadata": {},
     "output_type": "display_data"
    }
   ],
   "source": [
    "fig = plt.figure(figsize=(7,7))\n",
    "ax = fig.add_subplot(111)\n",
    "ConfusionMatrixDisplay(\n",
    "    cm,\n",
    "    display_labels=genres\n",
    ").plot(\n",
    "    xticks_rotation=90,\n",
    "    cmap=\"Blues\",\n",
    "    colorbar=False,\n",
    "    ax=ax\n",
    ")\n",
    "fig.tight_layout()"
   ]
  },
  {
   "cell_type": "code",
   "execution_count": 21,
   "metadata": {},
   "outputs": [],
   "source": [
    "fig.savefig(\n",
    "    get_project_root() / \"output/vgg16/vgg16_cm.svg\"\n",
    ")\n",
    "fig.savefig(\n",
    "    get_project_root() / \"output/vgg16/vgg16_cm.png\"\n",
    ")"
   ]
  },
  {
   "cell_type": "code",
   "execution_count": 42,
   "metadata": {},
   "outputs": [],
   "source": [
    "def average_metrics(y_test, y_pred):\n",
    "    scorers = {\n",
    "        \"accuracy\": accuracy_score(y_test, y_pred),\n",
    "        \"f1_micro\": f1_score(y_test, y_pred, average=\"micro\"),\n",
    "        \"f1_macro\": f1_score(y_test, y_pred, average=\"macro\"),\n",
    "        \"recall_micro\": recall_score(y_test, y_pred, average=\"micro\"),\n",
    "        \"recall_macro\": recall_score(y_test, y_pred, average=\"macro\"),\n",
    "        \"precision_micro\": precision_score(y_test, y_pred, average=\"micro\"),\n",
    "        \"precision_macro\": precision_score(y_test, y_pred, average=\"macro\")\n",
    "    }\n",
    "    df = pd.DataFrame(index=scorers.keys(), columns=[\"metric score\"])\n",
    "    for scorer in scorers.keys():\n",
    "        df.at[scorer, \"metric score\"] = scorers[scorer]\n",
    "    df=df.transpose()\n",
    "    return df\n",
    "\n",
    "def class_metrics(y_test, y_pred, class_labels):\n",
    "    df = pd.DataFrame(index=list(class_labels))\n",
    "\n",
    "    for scorer in [\n",
    "        (\"recall\", recall_score),\n",
    "        (\"precision\", precision_score),\n",
    "        (\"f1\", f1_score)\n",
    "    ]:\n",
    "        metric_score = scorer[1](\n",
    "            y_test,\n",
    "            y_pred,\n",
    "            average=None,\n",
    "            # labels=list(class_labels)\n",
    "        )\n",
    "        df[scorer[0]] = metric_score\n",
    "\n",
    "    df = df.transpose()\n",
    "\n",
    "    return df"
   ]
  },
  {
   "cell_type": "code",
   "execution_count": 15,
   "metadata": {},
   "outputs": [
    {
     "data": {
      "text/html": [
       "<div>\n",
       "<style scoped>\n",
       "    .dataframe tbody tr th:only-of-type {\n",
       "        vertical-align: middle;\n",
       "    }\n",
       "\n",
       "    .dataframe tbody tr th {\n",
       "        vertical-align: top;\n",
       "    }\n",
       "\n",
       "    .dataframe thead th {\n",
       "        text-align: right;\n",
       "    }\n",
       "</style>\n",
       "<table border=\"1\" class=\"dataframe\">\n",
       "  <thead>\n",
       "    <tr style=\"text-align: right;\">\n",
       "      <th></th>\n",
       "      <th>accuracy</th>\n",
       "      <th>f1_micro</th>\n",
       "      <th>f1_macro</th>\n",
       "      <th>recall_micro</th>\n",
       "      <th>recall_macro</th>\n",
       "      <th>precision_micro</th>\n",
       "      <th>precision_macro</th>\n",
       "    </tr>\n",
       "  </thead>\n",
       "  <tbody>\n",
       "    <tr>\n",
       "      <th>metric score</th>\n",
       "      <td>0.665</td>\n",
       "      <td>0.665</td>\n",
       "      <td>0.650908</td>\n",
       "      <td>0.665</td>\n",
       "      <td>0.665</td>\n",
       "      <td>0.665</td>\n",
       "      <td>0.652983</td>\n",
       "    </tr>\n",
       "  </tbody>\n",
       "</table>\n",
       "</div>"
      ],
      "text/plain": [
       "             accuracy f1_micro  f1_macro recall_micro recall_macro  \\\n",
       "metric score    0.665    0.665  0.650908        0.665        0.665   \n",
       "\n",
       "             precision_micro precision_macro  \n",
       "metric score           0.665        0.652983  "
      ]
     },
     "execution_count": 15,
     "metadata": {},
     "output_type": "execute_result"
    }
   ],
   "source": [
    "av_metrics = average_metrics(test_batches.classes, pred_class)\n",
    "av_metrics"
   ]
  },
  {
   "cell_type": "code",
   "execution_count": 25,
   "metadata": {},
   "outputs": [
    {
     "name": "stderr",
     "output_type": "stream",
     "text": [
      "[0112/101158.116753:INFO:headless_shell.cc(223)] 20687 bytes written to file /var/folders/ng/4x8hyf_s39b2rqzs184hl_lr0000gp/T/tmp82i45c4d/temp.png\n",
      "[0112/101159.049501:INFO:headless_shell.cc(223)] 28017 bytes written to file /var/folders/ng/4x8hyf_s39b2rqzs184hl_lr0000gp/T/tmpu3_x2hip/temp.png\n"
     ]
    }
   ],
   "source": [
    "dfi.export(\n",
    "    av_metrics,\n",
    "    \"../output/vgg16/vgg16-transfer_average_metrics.png\"\n",
    ")\n",
    "\n",
    "av_metrics_t = av_metrics.transpose()\n",
    "dfi.export(\n",
    "    av_metrics_t,\n",
    "    \"../output/vgg16/vgg16-transfer_average_metrics_t.png\"\n",
    ")"
   ]
  },
  {
   "cell_type": "code",
   "execution_count": 43,
   "metadata": {},
   "outputs": [
    {
     "data": {
      "text/html": [
       "<div>\n",
       "<style scoped>\n",
       "    .dataframe tbody tr th:only-of-type {\n",
       "        vertical-align: middle;\n",
       "    }\n",
       "\n",
       "    .dataframe tbody tr th {\n",
       "        vertical-align: top;\n",
       "    }\n",
       "\n",
       "    .dataframe thead th {\n",
       "        text-align: right;\n",
       "    }\n",
       "</style>\n",
       "<table border=\"1\" class=\"dataframe\">\n",
       "  <thead>\n",
       "    <tr style=\"text-align: right;\">\n",
       "      <th></th>\n",
       "      <th>blues</th>\n",
       "      <th>classical</th>\n",
       "      <th>country</th>\n",
       "      <th>disco</th>\n",
       "      <th>hiphop</th>\n",
       "      <th>jazz</th>\n",
       "      <th>metal</th>\n",
       "      <th>pop</th>\n",
       "      <th>reggae</th>\n",
       "      <th>rock</th>\n",
       "    </tr>\n",
       "  </thead>\n",
       "  <tbody>\n",
       "    <tr>\n",
       "      <th>recall</th>\n",
       "      <td>0.550000</td>\n",
       "      <td>0.950000</td>\n",
       "      <td>0.750000</td>\n",
       "      <td>0.650000</td>\n",
       "      <td>0.75</td>\n",
       "      <td>0.600000</td>\n",
       "      <td>0.950000</td>\n",
       "      <td>0.800000</td>\n",
       "      <td>0.450000</td>\n",
       "      <td>0.200000</td>\n",
       "    </tr>\n",
       "    <tr>\n",
       "      <th>precision</th>\n",
       "      <td>0.647059</td>\n",
       "      <td>0.791667</td>\n",
       "      <td>0.652174</td>\n",
       "      <td>0.764706</td>\n",
       "      <td>0.75</td>\n",
       "      <td>0.666667</td>\n",
       "      <td>0.633333</td>\n",
       "      <td>0.695652</td>\n",
       "      <td>0.642857</td>\n",
       "      <td>0.285714</td>\n",
       "    </tr>\n",
       "    <tr>\n",
       "      <th>f1</th>\n",
       "      <td>0.594595</td>\n",
       "      <td>0.863636</td>\n",
       "      <td>0.697674</td>\n",
       "      <td>0.702703</td>\n",
       "      <td>0.75</td>\n",
       "      <td>0.631579</td>\n",
       "      <td>0.760000</td>\n",
       "      <td>0.744186</td>\n",
       "      <td>0.529412</td>\n",
       "      <td>0.235294</td>\n",
       "    </tr>\n",
       "  </tbody>\n",
       "</table>\n",
       "</div>"
      ],
      "text/plain": [
       "              blues  classical   country     disco  hiphop      jazz  \\\n",
       "recall     0.550000   0.950000  0.750000  0.650000    0.75  0.600000   \n",
       "precision  0.647059   0.791667  0.652174  0.764706    0.75  0.666667   \n",
       "f1         0.594595   0.863636  0.697674  0.702703    0.75  0.631579   \n",
       "\n",
       "              metal       pop    reggae      rock  \n",
       "recall     0.950000  0.800000  0.450000  0.200000  \n",
       "precision  0.633333  0.695652  0.642857  0.285714  \n",
       "f1         0.760000  0.744186  0.529412  0.235294  "
      ]
     },
     "execution_count": 43,
     "metadata": {},
     "output_type": "execute_result"
    }
   ],
   "source": [
    "c_metrics = class_metrics(\n",
    "    test_batches.classes,\n",
    "    pred_class,\n",
    "    genres\n",
    ")\n",
    "c_metrics"
   ]
  },
  {
   "cell_type": "code",
   "execution_count": 44,
   "metadata": {},
   "outputs": [
    {
     "name": "stderr",
     "output_type": "stream",
     "text": [
      "[0114/123021.190419:INFO:headless_shell.cc(223)] 36426 bytes written to file /var/folders/ng/4x8hyf_s39b2rqzs184hl_lr0000gp/T/tmpy7k1xv0u/temp.png\n",
      "[0114/123021.959163:INFO:headless_shell.cc(223)] 50853 bytes written to file /var/folders/ng/4x8hyf_s39b2rqzs184hl_lr0000gp/T/tmpnwsbfjd9/temp.png\n"
     ]
    }
   ],
   "source": [
    "dfi.export(\n",
    "    c_metrics,\n",
    "    \"../output/vgg16/vgg16-transfer_class_metrics.png\"\n",
    ")\n",
    "\n",
    "c_metrics_t = c_metrics.transpose()\n",
    "dfi.export(\n",
    "    c_metrics_t,\n",
    "    \"../output/vgg16/vgg16-transfer_class_metrics_t.png\"\n",
    ")"
   ]
  },
  {
   "cell_type": "code",
   "execution_count": null,
   "metadata": {},
   "outputs": [],
   "source": []
  }
 ],
 "metadata": {
  "kernelspec": {
   "display_name": "genreclassification-qGJVucn0-py3.9",
   "language": "python",
   "name": "python3"
  },
  "language_info": {
   "codemirror_mode": {
    "name": "ipython",
    "version": 3
   },
   "file_extension": ".py",
   "mimetype": "text/x-python",
   "name": "python",
   "nbconvert_exporter": "python",
   "pygments_lexer": "ipython3",
   "version": "3.9.15"
  },
  "orig_nbformat": 4,
  "vscode": {
   "interpreter": {
    "hash": "071c4954f4b056e381337a2b30bebca67942706fcde46b495279624c5d47332a"
   }
  }
 },
 "nbformat": 4,
 "nbformat_minor": 2
}
